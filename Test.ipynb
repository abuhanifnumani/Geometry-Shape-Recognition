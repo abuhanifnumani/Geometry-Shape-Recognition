{
 "cells": [
  {
   "cell_type": "code",
   "execution_count": 1,
   "metadata": {},
   "outputs": [],
   "source": [
    "from pathlib import Path\n",
    "import numpy as np\n",
    "import matplotlib.pyplot as plt\n",
    "import matplotlib.image as mpimg\n",
    "import cv2\n",
    "import os \n",
    "from PIL import Image\n",
    "from pprint import pprint"
   ]
  },
  {
   "cell_type": "markdown",
   "metadata": {},
   "source": [
    "# For Testing"
   ]
  },
  {
   "cell_type": "code",
   "execution_count": 2,
   "metadata": {},
   "outputs": [
    {
     "ename": "error",
     "evalue": "OpenCV(4.3.0) C:\\projects\\opencv-python\\opencv\\modules\\imgproc\\src\\resize.cpp:3929: error: (-215:Assertion failed) !ssize.empty() in function 'cv::resize'\n",
     "output_type": "error",
     "traceback": [
      "\u001b[1;31m---------------------------------------------------------------------------\u001b[0m",
      "\u001b[1;31merror\u001b[0m                                     Traceback (most recent call last)",
      "\u001b[1;32m<ipython-input-2-a8114f196b9e>\u001b[0m in \u001b[0;36m<module>\u001b[1;34m\u001b[0m\n\u001b[0;32m      8\u001b[0m \u001b[1;31m# to read the image\u001b[0m\u001b[1;33m\u001b[0m\u001b[1;33m\u001b[0m\u001b[1;33m\u001b[0m\u001b[0m\n\u001b[0;32m      9\u001b[0m \u001b[0mimg\u001b[0m \u001b[1;33m=\u001b[0m \u001b[0mcv2\u001b[0m\u001b[1;33m.\u001b[0m\u001b[0mimread\u001b[0m\u001b[1;33m(\u001b[0m\u001b[0mimage_path\u001b[0m\u001b[1;33m,\u001b[0m\u001b[1;36m2\u001b[0m\u001b[1;33m)\u001b[0m\u001b[1;33m\u001b[0m\u001b[1;33m\u001b[0m\u001b[0m\n\u001b[1;32m---> 10\u001b[1;33m \u001b[0mimg2\u001b[0m\u001b[1;33m=\u001b[0m \u001b[0mcv2\u001b[0m\u001b[1;33m.\u001b[0m\u001b[0mresize\u001b[0m\u001b[1;33m(\u001b[0m\u001b[0mimg\u001b[0m\u001b[1;33m,\u001b[0m\u001b[1;33m(\u001b[0m\u001b[1;36m100\u001b[0m\u001b[1;33m,\u001b[0m\u001b[1;36m100\u001b[0m\u001b[1;33m)\u001b[0m\u001b[1;33m)\u001b[0m\u001b[1;33m\u001b[0m\u001b[1;33m\u001b[0m\u001b[0m\n\u001b[0m\u001b[0;32m     11\u001b[0m \u001b[1;33m\u001b[0m\u001b[0m\n\u001b[0;32m     12\u001b[0m \u001b[1;31m# Change the current directory\u001b[0m\u001b[1;33m\u001b[0m\u001b[1;33m\u001b[0m\u001b[1;33m\u001b[0m\u001b[0m\n",
      "\u001b[1;31merror\u001b[0m: OpenCV(4.3.0) C:\\projects\\opencv-python\\opencv\\modules\\imgproc\\src\\resize.cpp:3929: error: (-215:Assertion failed) !ssize.empty() in function 'cv::resize'\n"
     ]
    }
   ],
   "source": [
    "# Image path \n",
    "image_path = r'C:\\Users\\abuha\\Desktop\\SEMESTER\\MLerning\\ML Project\\Geometry Shape\\1.jpg'\n",
    "  \n",
    "# Image directory \n",
    "directory = r'C:\\Users\\abuha\\Desktop\\SEMESTER\\MLerning\\ML Project\\Geometry Shape'\n",
    "  \n",
    "# Using cv2.imread() method \n",
    "# to read the image \n",
    "img = cv2.imread(image_path,2) \n",
    "img2= cv2.resize(img,(100,100)) \n",
    "  \n",
    "# Change the current directory  \n",
    "# to specified directory  \n",
    "os.chdir(directory) \n",
    "  \n",
    "# List files and directories   \n",
    "# in 'C:/Users/Rajnish/Desktop/GeeksforGeeks'   \n",
    "print(\"Before saving image:\")   \n",
    "print(os.listdir(directory))   \n",
    "  \n",
    "# Filename \n",
    "filename = 'savedImage111.jpg'\n",
    "  \n",
    "# Using cv2.imwrite() method \n",
    "# Saving the image \n",
    "cv2.imwrite(filename, img2) \n",
    "  \n",
    "# List files and directories   \n",
    "# in 'C:/Users / Rajnish / Desktop / GeeksforGeeks'   \n",
    "print(\"After saving image:\")   \n",
    "print(os.listdir(directory)) \n",
    "  \n",
    "print('Successfully saved') "
   ]
  },
  {
   "cell_type": "code",
   "execution_count": 89,
   "metadata": {},
   "outputs": [
    {
     "name": "stdout",
     "output_type": "stream",
     "text": [
      "(80,)\n",
      "(80, 100, 100)\n"
     ]
    }
   ],
   "source": [
    "y=[]\n",
    "f=0\n",
    "dataset=[]\n",
    "directory=r'C:\\\\Users\\\\abuha\\\\Desktop\\\\SEMESTER\\\\MLerning\\\\ML Project\\\\Geometry Shape\\\\Trainnig'\n",
    "totallist=os.listdir(directory)\n",
    "\n",
    "for i in range(0,len(totallist)):\n",
    "    \n",
    "    pathimg=r'C:\\\\Users\\\\abuha\\\\Desktop\\\\SEMESTER\\\\MLerning\\\\ML Project\\\\Geometry Shape\\\\Trainnig\\\\'+str(totallist[i])+''\n",
    "    #print(pathimg)\n",
    "    z=cv2.imread(pathimg,2)\n",
    "    dataset.append(z)\n",
    "    if i%10==0:\n",
    "        f=f+1\n",
    "        y.append(f)\n",
    "    else:\n",
    "        y.append(f)\n",
    "\n",
    "dataset=np.array(dataset)\n",
    "y=np.array(y)\n",
    "\n",
    "print(y.shape)\n",
    "print(dataset.shape)\n"
   ]
  },
  {
   "cell_type": "code",
   "execution_count": 52,
   "metadata": {},
   "outputs": [],
   "source": [
    "def euclidean(x1, x2):\n",
    "    sum=0\n",
    "    for ix, ix2 in zip(x1, x2):\n",
    "        sum+=(ix-ix2)**2\n",
    "    return np.sqrt(sum)"
   ]
  },
  {
   "cell_type": "code",
   "execution_count": 53,
   "metadata": {},
   "outputs": [
    {
     "data": {
      "text/plain": [
       "array([[255, 255, 255, ..., 255, 255, 255],\n",
       "       [255, 255, 255, ..., 255, 255, 255],\n",
       "       [255, 255, 255, ..., 255, 255, 255],\n",
       "       ...,\n",
       "       [255, 255, 255, ..., 255, 255, 255],\n",
       "       [255, 255, 255, ..., 255, 255, 255],\n",
       "       [255, 255, 255, ..., 255, 255, 255]], dtype=uint8)"
      ]
     },
     "execution_count": 53,
     "metadata": {},
     "output_type": "execute_result"
    }
   ],
   "source": [
    "path=r'C:\\\\Users\\\\abuha\\\\Desktop\\\\SEMESTER\\\\MLerning\\\\ML Project\\\\Geometry Shape\\\\Trainnig\\\\C1.jpg'\n",
    "test=cv2.imread(path,2)\n",
    "test=np.array(test)\n",
    "test.shape\n",
    "test\n"
   ]
  },
  {
   "cell_type": "markdown",
   "metadata": {},
   "source": [
    "# Final Code"
   ]
  },
  {
   "cell_type": "markdown",
   "metadata": {},
   "source": [
    "imge read and convert to Gray color\n",
    "and \n",
    "reshape list"
   ]
  },
  {
   "cell_type": "code",
   "execution_count": 95,
   "metadata": {},
   "outputs": [
    {
     "name": "stdout",
     "output_type": "stream",
     "text": [
      "C1.jpg\n"
     ]
    }
   ],
   "source": [
    "x_train1=[]\n",
    "y_train1=[]\n",
    "\n",
    "directory=r'Trainnig'     \n",
    "list=os.listdir(directory)\n",
    "print(list[0])\n",
    "\n",
    "level=0\n",
    "for i in range(0,len(list)):\n",
    "    img=cv2.imread(r'Trainnig/'+str(list[i])+'',2)\n",
    "    temp=img.reshape(-1)\n",
    "    x_train1.append(temp)\n",
    "    y_train1.append(level)\n",
    "    if((i+1)%20==0):\n",
    "        level+=1\n",
    "    \n",
    "    \n",
    "#x_train1,y_train1\n"
   ]
  },
  {
   "cell_type": "code",
   "execution_count": 84,
   "metadata": {},
   "outputs": [
    {
     "name": "stdout",
     "output_type": "stream",
     "text": [
      "[array([255, 255, 255, ..., 255, 255, 255], dtype=uint8), array([255, 255, 255, ..., 255, 255, 255], dtype=uint8), array([255, 255, 255, ..., 255, 255, 255], dtype=uint8), array([255, 255, 255, ..., 255, 255, 255], dtype=uint8), array([255, 255, 255, ..., 255, 255, 255], dtype=uint8), array([255, 255, 255, ..., 255, 255, 255], dtype=uint8), array([255, 255, 255, ..., 255, 255, 255], dtype=uint8), array([255, 255, 255, ..., 255, 255, 255], dtype=uint8), array([255, 255, 255, ..., 255, 255, 255], dtype=uint8), array([255, 255, 255, ..., 255, 255, 255], dtype=uint8), array([255, 255, 255, ..., 255, 255, 255], dtype=uint8), array([255, 255, 255, ..., 255, 255, 255], dtype=uint8), array([255, 255, 255, ..., 255, 255, 255], dtype=uint8), array([255, 255, 255, ..., 255, 255, 255], dtype=uint8), array([255, 255, 255, ..., 255, 255, 255], dtype=uint8), array([255, 255, 255, ..., 255, 255, 255], dtype=uint8)]\n"
     ]
    }
   ],
   "source": [
    "from sklearn.model_selection import train_test_split\n",
    "from sklearn.metrics import confusion_matrix\n",
    "from sklearn import metrics\n",
    "X_train, X_test, y_train, y_test = train_test_split(x_train1,y_train1, test_size=0.2)\n",
    "print(X_test)"
   ]
  },
  {
   "cell_type": "code",
   "execution_count": 85,
   "metadata": {},
   "outputs": [
    {
     "name": "stdout",
     "output_type": "stream",
     "text": [
      "[1 1 1 1 1 3 3 1 1 1 2 1 1 1 1 1]\n",
      "0.5625\n"
     ]
    }
   ],
   "source": [
    "from sklearn.neighbors import KNeighborsClassifier\n",
    "knn = KNeighborsClassifier(n_neighbors=4)\n",
    "knn.fit(X_train, y_train)\n",
    "y_pred = knn.predict(X_test)\n",
    "print(y_pred)\n",
    "print(metrics.accuracy_score(y_test, y_pred))"
   ]
  },
  {
   "cell_type": "markdown",
   "metadata": {},
   "source": [
    "Test image load"
   ]
  },
  {
   "cell_type": "code",
   "execution_count": 104,
   "metadata": {},
   "outputs": [
    {
     "data": {
      "text/plain": [
       "'Trainnig/L1.jpg'"
      ]
     },
     "execution_count": 104,
     "metadata": {},
     "output_type": "execute_result"
    }
   ],
   "source": [
    "testing=[]\n",
    "test_pred=[]\n",
    "img=cv2.imread(r'Trainnig/'+str(list[20])+'',2)\n",
    "temp1=(img.reshape(-1))\n",
    "test_pred.append(1)\n",
    "testing.append(temp1)\n",
    "testing,test_pred\n",
    "r'Trainnig/'+str(list[20])+''\n"
   ]
  },
  {
   "cell_type": "code",
   "execution_count": null,
   "metadata": {},
   "outputs": [],
   "source": []
  },
  {
   "cell_type": "code",
   "execution_count": 105,
   "metadata": {},
   "outputs": [
    {
     "name": "stdout",
     "output_type": "stream",
     "text": [
      "[1]\n"
     ]
    }
   ],
   "source": [
    "from collections import Counter\n",
    "knn = KNeighborsClassifier(n_neighbors=5)\n",
    "knn.fit(x_train1, y_train1)\n",
    "y_pred_k = knn.predict(testing)\n",
    "print(y_pred_k)"
   ]
  },
  {
   "cell_type": "code",
   "execution_count": 93,
   "metadata": {},
   "outputs": [
    {
     "data": {
      "text/plain": [
       "100.0"
      ]
     },
     "execution_count": 93,
     "metadata": {},
     "output_type": "execute_result"
    }
   ],
   "source": [
    "from sklearn.metrics import accuracy_score\n",
    "accuracy_score(test_pred, y_pred_k)*100"
   ]
  },
  {
   "cell_type": "code",
   "execution_count": null,
   "metadata": {},
   "outputs": [],
   "source": []
  },
  {
   "cell_type": "code",
   "execution_count": null,
   "metadata": {},
   "outputs": [],
   "source": [
    "from tkinter.font import Font\n",
    "root = Tk()\n",
    "frame = Frame(root, width=200,height=400,bg=\"white\")\n",
    "\n",
    "frame.place(x=445, y=30)\n",
    "\n",
    "title = Label(frame, text=\"Algo: Backtracking\", fg=\"purple\",bg=\"white\", font=Font(family=\"Times New Romad\", size=12, weight=\"bold\",underline=1)).pack(side=TOP)\n",
    "frame.pack()\n",
    "\n",
    "root.mainloop()"
   ]
  }
 ],
 "metadata": {
  "kernelspec": {
   "display_name": "Python 3",
   "language": "python",
   "name": "python3"
  },
  "language_info": {
   "codemirror_mode": {
    "name": "ipython",
    "version": 3
   },
   "file_extension": ".py",
   "mimetype": "text/x-python",
   "name": "python",
   "nbconvert_exporter": "python",
   "pygments_lexer": "ipython3",
   "version": "3.7.6"
  }
 },
 "nbformat": 4,
 "nbformat_minor": 2
}
