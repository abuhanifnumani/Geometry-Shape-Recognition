{
 "cells": [
  {
   "cell_type": "code",
   "execution_count": 31,
   "metadata": {},
   "outputs": [],
   "source": [
    "from pathlib import Path\n",
    "import numpy as np\n",
    "import matplotlib.pyplot as plt\n",
    "import matplotlib.image as mpimg\n",
    "import cv2\n",
    "import os \n",
    "from PIL import Image\n",
    "from pprint import pprint"
   ]
  },
  {
   "cell_type": "markdown",
   "metadata": {},
   "source": [
    "Image load and covert gray scale and reshape 1D"
   ]
  },
  {
   "cell_type": "code",
   "execution_count": 32,
   "metadata": {},
   "outputs": [
    {
     "name": "stdout",
     "output_type": "stream",
     "text": [
      "C1.jpg\n"
     ]
    }
   ],
   "source": [
    "x_train1=[]\n",
    "y_train1=[]\n",
    "\n",
    "directory=r'Trainnig'     \n",
    "list=os.listdir(directory)\n",
    "print(list[0])\n",
    "\n",
    "level=0\n",
    "lname=['Circle','Line','Rectangle','Triangle']\n",
    "for i in range(0,len(list)):\n",
    "    img=cv2.imread(r'Trainnig/'+str(list[i])+'',2)\n",
    "    temp=img.reshape(-1)\n",
    "    x_train1.append(temp)\n",
    "    y_train1.append(lname[level])\n",
    "    if((i+1)%20==0):\n",
    "        level+=1\n",
    "    \n",
    "    \n",
    "#x_train1,y_train1\n"
   ]
  },
  {
   "cell_type": "markdown",
   "metadata": {},
   "source": [
    "Training data to testing for split"
   ]
  },
  {
   "cell_type": "code",
   "execution_count": 33,
   "metadata": {},
   "outputs": [
    {
     "name": "stdout",
     "output_type": "stream",
     "text": [
      "(64, 10000)\n",
      "(16, 10000)\n",
      "(64,)\n",
      "(16,)\n"
     ]
    }
   ],
   "source": [
    "from sklearn.model_selection import train_test_split\n",
    "from sklearn.metrics import confusion_matrix\n",
    "from sklearn import metrics\n",
    "x_train, x_test, y_train, y_test = train_test_split(x_train1,y_train1, test_size=0.2)\n",
    "xtr=np.array(x_train)\n",
    "xte=np.array(x_test)\n",
    "ytr=np.array(y_train)\n",
    "yte=np.array(y_test)\n",
    "print(xtr.shape)\n",
    "print(xte.shape)\n",
    "print(ytr.shape)\n",
    "print(yte.shape)"
   ]
  },
  {
   "cell_type": "markdown",
   "metadata": {},
   "source": [
    "Testing Folder to accuracy check"
   ]
  },
  {
   "cell_type": "code",
   "execution_count": 34,
   "metadata": {},
   "outputs": [
    {
     "name": "stdout",
     "output_type": "stream",
     "text": [
      "C1.jpg\n"
     ]
    }
   ],
   "source": [
    "x_test1=[]\n",
    "y_test1=[]\n",
    "\n",
    "directory1=r'testing'     \n",
    "list=os.listdir(directory1)\n",
    "print(list[0])\n",
    "\n",
    "level=0\n",
    "for i in range(0,len(list)):\n",
    "    img=cv2.imread(r'Trainnig/'+str(list[i])+'',2)\n",
    "    temp=img.reshape(-1)\n",
    "    x_test1.append(temp)\n",
    "    y_test1.append(lname[level])\n",
    "    if((i+1)%10==0):\n",
    "        level+=1\n",
    "    \n",
    "    \n",
    "#x_test1,y_test1\n"
   ]
  },
  {
   "cell_type": "markdown",
   "metadata": {},
   "source": [
    "K-nearest neighbour accuracy"
   ]
  },
  {
   "cell_type": "code",
   "execution_count": 35,
   "metadata": {},
   "outputs": [
    {
     "name": "stdout",
     "output_type": "stream",
     "text": [
      "['Circle' 'Line' 'Line' 'Line' 'Line' 'Line' 'Circle' 'Line' 'Line' 'Line'\n",
      " 'Line' 'Line' 'Line' 'Line' 'Line' 'Line' 'Line' 'Line' 'Line' 'Line'\n",
      " 'Rectangle' 'Line' 'Line' 'Line' 'Line' 'Line' 'Line' 'Line' 'Line'\n",
      " 'Line' 'Line' 'Line' 'Line' 'Line' 'Triangle' 'Line' 'Triangle' 'Line'\n",
      " 'Triangle' 'Line']\n",
      "40.0\n"
     ]
    }
   ],
   "source": [
    "from sklearn.neighbors import KNeighborsClassifier\n",
    "knn = KNeighborsClassifier(n_neighbors=9)\n",
    "knn.fit(x_train1, y_train1)\n",
    "y_pred = knn.predict(x_test1)\n",
    "print(y_pred)\n",
    "print(metrics.accuracy_score(y_test1, y_pred)*100)"
   ]
  },
  {
   "cell_type": "markdown",
   "metadata": {},
   "source": [
    "Logistic Regression accuracy"
   ]
  },
  {
   "cell_type": "code",
   "execution_count": 36,
   "metadata": {},
   "outputs": [
    {
     "name": "stdout",
     "output_type": "stream",
     "text": [
      "['Circle' 'Circle' 'Circle' 'Circle' 'Circle' 'Circle' 'Circle' 'Circle'\n",
      " 'Circle' 'Circle' 'Line' 'Line' 'Line' 'Line' 'Line' 'Line' 'Line' 'Line'\n",
      " 'Line' 'Line' 'Rectangle' 'Rectangle' 'Rectangle' 'Rectangle' 'Rectangle'\n",
      " 'Rectangle' 'Rectangle' 'Rectangle' 'Rectangle' 'Triangle' 'Triangle'\n",
      " 'Triangle' 'Triangle' 'Triangle' 'Triangle' 'Triangle' 'Triangle'\n",
      " 'Triangle' 'Triangle' 'Triangle'] 40\n",
      "97.5\n"
     ]
    },
    {
     "name": "stderr",
     "output_type": "stream",
     "text": [
      "C:\\Users\\abuha\\anaconda3\\lib\\site-packages\\sklearn\\linear_model\\_logistic.py:940: ConvergenceWarning: lbfgs failed to converge (status=1):\n",
      "STOP: TOTAL NO. of ITERATIONS REACHED LIMIT.\n",
      "\n",
      "Increase the number of iterations (max_iter) or scale the data as shown in:\n",
      "    https://scikit-learn.org/stable/modules/preprocessing.html\n",
      "Please also refer to the documentation for alternative solver options:\n",
      "    https://scikit-learn.org/stable/modules/linear_model.html#logistic-regression\n",
      "  extra_warning_msg=_LOGISTIC_SOLVER_CONVERGENCE_MSG)\n"
     ]
    }
   ],
   "source": [
    "from sklearn.linear_model import LogisticRegression\n",
    "logreg = LogisticRegression()\n",
    "logreg.fit(x_train1, y_train1)\n",
    "y_pred = logreg.predict(x_test1)\n",
    "print(y_pred,len(y_pred))\n",
    "print(metrics.accuracy_score(y_test1, y_pred)*100)\n"
   ]
  },
  {
   "cell_type": "markdown",
   "metadata": {},
   "source": [
    "Perceptron accuracy"
   ]
  },
  {
   "cell_type": "code",
   "execution_count": 37,
   "metadata": {},
   "outputs": [
    {
     "name": "stdout",
     "output_type": "stream",
     "text": [
      "97.5\n"
     ]
    }
   ],
   "source": [
    "from sklearn.linear_model import Perceptron\n",
    "clf = Perceptron(tol=1e-3, random_state=0)\n",
    "clf.fit(x_train1, y_train1)\n",
    "Perceptron()\n",
    "y_pred_p=clf.predict(x_test1)\n",
    "\n",
    "print(metrics.accuracy_score(y_test1, y_pred)*100)"
   ]
  },
  {
   "cell_type": "markdown",
   "metadata": {},
   "source": [
    "Decision tree accuracy"
   ]
  },
  {
   "cell_type": "code",
   "execution_count": 38,
   "metadata": {},
   "outputs": [
    {
     "name": "stdout",
     "output_type": "stream",
     "text": [
      "97.5\n"
     ]
    }
   ],
   "source": [
    "from sklearn import tree\n",
    "model = tree.DecisionTreeClassifier(max_leaf_nodes=20000)\n",
    "model.fit(x_train1, y_train1)\n",
    "y_pred_d = model.predict(x_test1)\n",
    "print(metrics.accuracy_score(y_test1, y_pred)*100)"
   ]
  },
  {
   "cell_type": "markdown",
   "metadata": {},
   "source": [
    "# Test image load paint"
   ]
  },
  {
   "cell_type": "code",
   "execution_count": 39,
   "metadata": {},
   "outputs": [],
   "source": [
    "from PIL import ImageTk, Image, ImageDraw\n",
    "import PIL\n",
    "from tkinter import *\n",
    "from tkinter.font import Font\n",
    "\n",
    "width = 300\n",
    "height = 300\n",
    "#center = height//2\n",
    "white = (255, 255, 255)\n",
    "def save():\n",
    "    filename = \"test.jpg\"\n",
    "    image1.save(filename)\n",
    "    root.destroy()\n",
    "\n",
    "def paint(event):\n",
    "    x1, y1 = (event.x - 1), (event.y - 1)\n",
    "    x2, y2 = (event.x + 1), (event.y + 1)\n",
    "    cv.create_oval(x1, y1, x2, y2, fill=\"black\",width=9)\n",
    "    draw.line([x1, y1, x2, y2],fill=\"black\",width=6)\n",
    "    \n",
    "\n",
    "root = Tk()\n",
    "\n",
    "cv = Canvas(root, width=width, height=height, bg='white') #canvas \n",
    "cv.pack()\n",
    "\n",
    "image1 = PIL.Image.new(\"RGB\", (width, height), white)     #create an empty image \n",
    "draw = ImageDraw.Draw(image1)\n",
    "\n",
    "\n",
    "cv.pack(expand=YES, fill=BOTH)\n",
    "cv.bind(\"<B1-Motion>\", paint)\n",
    "\n",
    "button=Button(text=\"save\",command=save)\n",
    "button.pack()\n",
    "root.wm_title(\"Paint Window\")\n",
    "root.mainloop()\n"
   ]
  },
  {
   "cell_type": "code",
   "execution_count": 40,
   "metadata": {},
   "outputs": [],
   "source": [
    "#img=cv2.imread('t3.jpg',2)\n",
    "#temp1=[(img.reshape(-1))]\n",
    "#temp1"
   ]
  },
  {
   "cell_type": "code",
   "execution_count": 41,
   "metadata": {},
   "outputs": [
    {
     "data": {
      "text/plain": [
       "True"
      ]
     },
     "execution_count": 41,
     "metadata": {},
     "output_type": "execute_result"
    }
   ],
   "source": [
    "image_path = r'test.jpg'   # Image path \n",
    "#directory = r'C:\\Users\\abuha\\Desktop\\ToDo\\Project\\MLerning\\ML Project\\Geometry Shape'             # Image directory\n",
    "\n",
    "img = cv2.imread(image_path,2) \n",
    "img2= cv2.resize(img,(100,100)) \n",
    "  \n",
    "#os.chdir(directory) \n",
    "filename = 'test.jpg'\n",
    "\n",
    "cv2.imwrite(filename, img2) "
   ]
  },
  {
   "cell_type": "code",
   "execution_count": 42,
   "metadata": {},
   "outputs": [
    {
     "name": "stdout",
     "output_type": "stream",
     "text": [
      "(100, 100)\n"
     ]
    },
    {
     "data": {
      "text/plain": [
       "[array([255, 255, 255, ..., 255, 255, 255], dtype=uint8)]"
      ]
     },
     "execution_count": 42,
     "metadata": {},
     "output_type": "execute_result"
    }
   ],
   "source": [
    "img=cv2.imread('test.jpg',2)\n",
    "print(img.shape)\n",
    "temp1=[(img.reshape(-1))]\n",
    "temp1"
   ]
  },
  {
   "cell_type": "markdown",
   "metadata": {},
   "source": [
    "# Final Prediction by using some algo (KNN,LR,Perceptron)"
   ]
  },
  {
   "cell_type": "code",
   "execution_count": 43,
   "metadata": {},
   "outputs": [
    {
     "name": "stdout",
     "output_type": "stream",
     "text": [
      "['Line']\n"
     ]
    }
   ],
   "source": [
    "knn = KNeighborsClassifier(n_neighbors=3)\n",
    "knn.fit(x_train1, y_train1)\n",
    "y_pred_k = knn.predict(temp1)\n",
    "print(y_pred_k)"
   ]
  },
  {
   "cell_type": "code",
   "execution_count": 44,
   "metadata": {},
   "outputs": [
    {
     "name": "stdout",
     "output_type": "stream",
     "text": [
      "['Rectangle']\n"
     ]
    },
    {
     "name": "stderr",
     "output_type": "stream",
     "text": [
      "C:\\Users\\abuha\\anaconda3\\lib\\site-packages\\sklearn\\linear_model\\_logistic.py:940: ConvergenceWarning: lbfgs failed to converge (status=1):\n",
      "STOP: TOTAL NO. of ITERATIONS REACHED LIMIT.\n",
      "\n",
      "Increase the number of iterations (max_iter) or scale the data as shown in:\n",
      "    https://scikit-learn.org/stable/modules/preprocessing.html\n",
      "Please also refer to the documentation for alternative solver options:\n",
      "    https://scikit-learn.org/stable/modules/linear_model.html#logistic-regression\n",
      "  extra_warning_msg=_LOGISTIC_SOLVER_CONVERGENCE_MSG)\n"
     ]
    },
    {
     "data": {
      "image/jpeg": "[encoded data removed]",
      "text/plain": [
       "<IPython.core.display.Image object>"
      ]
     },
     "execution_count": 44,
     "metadata": {},
     "output_type": "execute_result"
    }
   ],
   "source": [
    "from IPython.display import Image\n",
    "logreg = LogisticRegression()\n",
    "logreg.fit(x_train1, y_train1)\n",
    "y_pred = logreg.predict(temp1)\n",
    "print(y_pred)\n",
    "Image(\"test.jpg\")"
   ]
  },
  {
   "cell_type": "code",
   "execution_count": 45,
   "metadata": {},
   "outputs": [
    {
     "name": "stdout",
     "output_type": "stream",
     "text": [
      "['Rectangle']\n"
     ]
    },
    {
     "data": {
      "image/jpeg": "[encoded data removed]",
      "text/plain": [
       "<IPython.core.display.Image object>"
      ]
     },
     "execution_count": 45,
     "metadata": {},
     "output_type": "execute_result"
    }
   ],
   "source": [
    "\n",
    "clf = Perceptron(tol=1e-3, random_state=0)\n",
    "clf.fit(x_train1, y_train1)\n",
    "Perceptron()\n",
    "y_pred=clf.predict(temp1)\n",
    "\n",
    "\n",
    "print(y_pred)\n",
    "Image(\"test.jpg\")"
   ]
  },
  {
   "cell_type": "code",
   "execution_count": 46,
   "metadata": {},
   "outputs": [],
   "source": [
    "root = Tk()\n",
    "root.title(\"................Result.................\")\n",
    "root.geometry(\"400x400+400+90\")\n",
    "root.configure(bg=\"white\")\n",
    "canvas = Canvas(root, width=200, height=200)\n",
    "canvas.pack()\n",
    "canvas.place(x=100, y=115)\n",
    "title = Label(canvas, text=y_pred, fg=\"purple\",bg=\"white\", font=Font(family=\"Times New Romad\", size=24, weight=\"bold\",underline=1)).pack(side=TOP)\n",
    "root.mainloop()\n"
   ]
  }
 ],
 "metadata": {
  "kernelspec": {
   "display_name": "Python 3",
   "language": "python",
   "name": "python3"
  },
  "language_info": {
   "codemirror_mode": {
    "name": "ipython",
    "version": 3
   },
   "file_extension": ".py",
   "mimetype": "text/x-python",
   "name": "python",
   "nbconvert_exporter": "python",
   "pygments_lexer": "ipython3",
   "version": "3.7.6"
  }
 },
 "nbformat": 4,
 "nbformat_minor": 2
}
